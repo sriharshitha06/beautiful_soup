from bs4 import BeautifulSoup

# Sample HTML document
html_doc = """
<html>
<head><title>World's Population</title></head>
<body>
    <h1>Main Heading</h1>
    <p class="xyz">This is a paragraph.</p>
    <p class="content">Another paragraph with <a href="https://example.com">a link</a>.</p>

    <div id="container">
        <ul>
            <li class="item">Item 1</li>
            <li class="item">Item 2</li>
            <li class="item">Item 3</li>
        </ul>
    </div>

    <table>
        <tr><th>Name</th><th>Age</th></tr>
        <tr><td>Alice</td><td>25</td></tr>
        <tr><td>Bob</td><td>30</td></tr>
    </table>
</body>
</html>
"""

soup = BeautifulSoup(html_doc, "html.parser")
print(soup)
